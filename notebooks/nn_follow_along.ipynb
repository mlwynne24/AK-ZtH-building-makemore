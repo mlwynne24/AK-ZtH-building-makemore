{
 "cells": [
  {
   "cell_type": "code",
   "execution_count": 1,
   "id": "82975adb",
   "metadata": {},
   "outputs": [
    {
     "name": "stdout",
     "output_type": "stream",
     "text": [
      "c:\\Users\\mwynn\\repos\\AK-ZtH-building-makemore\n"
     ]
    }
   ],
   "source": [
    "cd .."
   ]
  },
  {
   "cell_type": "code",
   "execution_count": 15,
   "id": "c5d7f747",
   "metadata": {},
   "outputs": [],
   "source": [
    "import torch\n",
    "import torch.nn.functional as F\n",
    "import matplotlib.pyplot as plt"
   ]
  },
  {
   "cell_type": "code",
   "execution_count": 3,
   "id": "626b64c9",
   "metadata": {},
   "outputs": [],
   "source": [
    "words = open(\"data/names.txt\", \"r\").read().splitlines()"
   ]
  },
  {
   "cell_type": "code",
   "execution_count": 4,
   "id": "50bfec09",
   "metadata": {},
   "outputs": [],
   "source": [
    "chars = sorted(list(set(\"\".join(words))))\n",
    "stoi = {s:i+1 for i,s in enumerate(chars)}\n",
    "stoi[\".\"] = 0\n",
    "itos = {i:s for s,i in stoi.items()}"
   ]
  },
  {
   "cell_type": "code",
   "execution_count": 74,
   "id": "b225ac94",
   "metadata": {},
   "outputs": [
    {
     "name": "stdout",
     "output_type": "stream",
     "text": [
      "number of examples: 228146\n"
     ]
    }
   ],
   "source": [
    "# create the dataset\n",
    "xs, ys = [], []\n",
    "for w in words:\n",
    "    chs = ['.'] + list(w) + ['.']\n",
    "    for ch1, ch2 in zip(chs, chs[1:]):\n",
    "        ix1 = stoi[ch1]\n",
    "        ix2 = stoi[ch2]\n",
    "        xs.append(ix1)\n",
    "        ys.append(ix2)\n",
    "xs = torch.tensor(xs)\n",
    "ys = torch.tensor(ys)\n",
    "num = xs.nelement()\n",
    "print(\"number of examples:\", num)\n",
    "\n",
    "# initialize the 'network'\n",
    "g = torch.Generator().manual_seed(2147483647)\n",
    "W = torch.randn((27, 27), generator=g, requires_grad=True)"
   ]
  },
  {
   "cell_type": "code",
   "execution_count": 77,
   "id": "54eba30f",
   "metadata": {},
   "outputs": [
    {
     "name": "stdout",
     "output_type": "stream",
     "text": [
      "2.4834256172180176\n",
      "2.4833858013153076\n",
      "2.4833483695983887\n",
      "2.4833130836486816\n",
      "2.4832799434661865\n",
      "2.4832475185394287\n",
      "2.4832165241241455\n",
      "2.483186960220337\n",
      "2.4831581115722656\n",
      "2.4831299781799316\n",
      "2.483103036880493\n",
      "2.483076333999634\n",
      "2.48305082321167\n",
      "2.483025550842285\n",
      "2.483001232147217\n",
      "2.4829773902893066\n",
      "2.482954263687134\n",
      "2.48293137550354\n",
      "2.4829089641571045\n",
      "2.4828872680664062\n",
      "2.482865571975708\n",
      "2.4828450679779053\n",
      "2.4828245639801025\n",
      "2.482804298400879\n",
      "2.4827847480773926\n",
      "2.4827651977539062\n",
      "2.48274564743042\n",
      "2.48272705078125\n",
      "2.482708692550659\n",
      "2.4826905727386475\n",
      "2.482672691345215\n",
      "2.4826550483703613\n",
      "2.482637405395508\n",
      "2.4826207160949707\n",
      "2.4826037883758545\n",
      "2.4825873374938965\n",
      "2.4825706481933594\n",
      "2.4825544357299805\n",
      "2.482538938522339\n",
      "2.482523202896118\n",
      "2.4825077056884766\n",
      "2.482492446899414\n",
      "2.4824774265289307\n",
      "2.4824626445770264\n",
      "2.482447862625122\n",
      "2.482433557510376\n",
      "2.48241925239563\n",
      "2.482405185699463\n",
      "2.482390880584717\n",
      "2.482377052307129\n",
      "2.48236346244812\n",
      "2.4823503494262695\n",
      "2.4823367595672607\n",
      "2.4823238849639893\n",
      "2.4823107719421387\n",
      "2.482297897338867\n",
      "2.482285261154175\n",
      "2.482272148132324\n",
      "2.482259750366211\n",
      "2.4822475910186768\n",
      "2.4822356700897217\n",
      "2.4822235107421875\n",
      "2.4822115898132324\n",
      "2.4821996688842773\n",
      "2.4821882247924805\n",
      "2.4821765422821045\n",
      "2.4821650981903076\n",
      "2.48215389251709\n",
      "2.482142686843872\n",
      "2.482131242752075\n",
      "2.4821207523345947\n",
      "2.482109546661377\n",
      "2.4820988178253174\n",
      "2.482088327407837\n",
      "2.4820778369903564\n",
      "2.4820668697357178\n",
      "2.4820566177368164\n",
      "2.482046604156494\n",
      "2.4820363521575928\n",
      "2.4820261001586914\n",
      "2.482016086578369\n",
      "2.482006549835205\n",
      "2.481997013092041\n",
      "2.4819869995117188\n",
      "2.4819769859313965\n",
      "2.4819676876068115\n",
      "2.4819579124450684\n",
      "2.4819486141204834\n",
      "2.4819395542144775\n",
      "2.4819302558898926\n",
      "2.4819211959838867\n",
      "2.4819118976593018\n",
      "2.481903076171875\n",
      "2.4818942546844482\n",
      "2.4818851947784424\n",
      "2.4818766117095947\n",
      "2.481868028640747\n",
      "2.4818594455718994\n",
      "2.4818508625030518\n",
      "2.481842279434204\n"
     ]
    }
   ],
   "source": [
    "# gradient descent\n",
    "for k in range(100):\n",
    "\n",
    "    # forward pass\n",
    "    xenc = F.one_hot(xs, num_classes=27).float()  # input to the network: one-hot encoding\n",
    "    logits = xenc @ W  # predict log-counts\n",
    "    counts = logits.exp()  # counts, equivalent to N\n",
    "    probs = counts / counts.sum(1, keepdim=True)  # probabilities for next character\n",
    "    loss = -probs[torch.arange(num), ys].log().mean() + 0.01*(W**2).mean()\n",
    "    print(loss.item())\n",
    "\n",
    "    # backward pass\n",
    "    W.grad = None  # set to zero the gradient\n",
    "    loss.backward()\n",
    "\n",
    "    # update\n",
    "    W.data += -50 * W.grad"
   ]
  },
  {
   "cell_type": "code",
   "execution_count": null,
   "id": "eab0ff5a",
   "metadata": {},
   "outputs": [
    {
     "name": "stdout",
     "output_type": "stream",
     "text": [
      "jigua.\n",
      "sadryrolyiniydavesole.\n",
      "rish.\n",
      "be.\n",
      "ka.\n"
     ]
    }
   ],
   "source": [
    "# sample from the network\n",
    "for i in range(5):\n",
    "    \n",
    "    out = []\n",
    "    ix = 0\n",
    "    while True:\n",
    "        xenc = F.one_hot(torch.tensor([ix]), num_classes=27).float()\n",
    "        logits = xenc @ W\n",
    "        counts = logits.exp()\n",
    "        p = counts / counts.sum(1, keepdim=True)\n",
    "\n",
    "        ix = torch.multinomial(p, num_samples=1, replacement=True, generator=g).item()\n",
    "        out.append(itos[ix])\n",
    "        if ix == 0:\n",
    "            break\n",
    "    print(''.join(out))"
   ]
  }
 ],
 "metadata": {
  "kernelspec": {
   "display_name": "recipes-ai",
   "language": "python",
   "name": "python3"
  },
  "language_info": {
   "codemirror_mode": {
    "name": "ipython",
    "version": 3
   },
   "file_extension": ".py",
   "mimetype": "text/x-python",
   "name": "python",
   "nbconvert_exporter": "python",
   "pygments_lexer": "ipython3",
   "version": "3.13.1"
  }
 },
 "nbformat": 4,
 "nbformat_minor": 5
}
